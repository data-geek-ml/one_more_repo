{
 "cells": [
  {
   "cell_type": "code",
   "execution_count": null,
   "id": "6a25a59c-f66e-48f5-855e-9f86e61f63c8",
   "metadata": {},
   "outputs": [
    {
     "name": "stdout",
     "output_type": "stream",
     "text": [
      " * Serving Flask app '__main__'\n",
      " * Debug mode: off\n"
     ]
    },
    {
     "name": "stderr",
     "output_type": "stream",
     "text": [
      "WARNING: This is a development server. Do not use it in a production deployment. Use a production WSGI server instead.\n",
      " * Running on all addresses (0.0.0.0)\n",
      " * Running on http://127.0.0.1:5003\n",
      " * Running on http://172.16.5.4:5003\n",
      "Press CTRL+C to quit\n"
     ]
    }
   ],
   "source": [
    "from flask import Flask, request, jsonify\n",
    "import mlflow.pyfunc\n",
    "\n",
    "app = Flask(__name__)\n",
    "\n",
    "mlflow.set_tracking_uri('sqlite:///mlflow.db')\n",
    "model_name = \"NewModel\"\n",
    "alias = \"Staging\"\n",
    "model = mlflow.pyfunc.load_model(f\"models:/{model_name}/{alias}\")\n",
    "\n",
    "\n",
    "\n",
    "\n",
    "\n",
    "\n"
   ]
  },
  {
   "cell_type": "code",
   "execution_count": null,
   "id": "b460cd25-f95b-4ab6-bdd0-fbb4738cd3f5",
   "metadata": {},
   "outputs": [],
   "source": [
    "from flask import Flask, request, jsonify\n",
    "import mlflow.pyfunc\n",
    "from mlflow.tracking import MlflowClient\n",
    "\n",
    "app = Flask(__name__)\n",
    "\n",
    "def load_model(stage):\n",
    "    model_name = \"ScriptRegressionModelData\"\n",
    "    client = MlflowClient()\n",
    "    model_version = client.get_latest_versions(model_name, stages=[stage])[0].version\n",
    "    model_uri = f\"models:/{model_name}/{model_version}\"\n",
    "    model = mlflow.pyfunc.load_model(model_uri=model_uri)\n",
    "    return model\n",
    "\n",
    "@app.route('/predict', methods=['POST'])\n",
    "def predict():\n",
    "    stage = request.args.get('stage', 'production')  # Default to 'production' if no stage is specified\n",
    "    data = request.get_json(force=True)\n",
    "    model = load_model(stage)\n",
    "    predictions = model.predict(data)\n",
    "    return jsonify(predictions.tolist())\n",
    "\n",
    "if __name__ == \"__main__\":\n",
    "    app.run(host=\"0.0.0.0\", port=5000)\n"
   ]
  }
 ],
 "metadata": {
  "kernelspec": {
   "display_name": "Python 3 (ipykernel)",
   "language": "python",
   "name": "python3"
  },
  "language_info": {
   "codemirror_mode": {
    "name": "ipython",
    "version": 3
   },
   "file_extension": ".py",
   "mimetype": "text/x-python",
   "name": "python",
   "nbconvert_exporter": "python",
   "pygments_lexer": "ipython3",
   "version": "3.10.13"
  }
 },
 "nbformat": 4,
 "nbformat_minor": 5
}
